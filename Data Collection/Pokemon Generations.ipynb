{
 "cells": [
  {
   "cell_type": "code",
   "execution_count": 1,
   "metadata": {},
   "outputs": [],
   "source": [
    "import requests"
   ]
  },
  {
   "cell_type": "code",
   "execution_count": 2,
   "metadata": {},
   "outputs": [],
   "source": [
    "URL = \"https://bulbapedia.bulbagarden.net/wiki/List_of_Pok%C3%A9mon_by_National_Pok%C3%A9dex_number\"\n",
    "page=requests.get(URL)"
   ]
  },
  {
   "cell_type": "code",
   "execution_count": 11,
   "metadata": {},
   "outputs": [],
   "source": [
    "from bs4 import BeautifulSoup\n",
    "\n",
    "soup = BeautifulSoup(page.content, 'html.parser')"
   ]
  },
  {
   "cell_type": "code",
   "execution_count": null,
   "metadata": {},
   "outputs": [],
   "source": []
  },
  {
   "cell_type": "code",
   "execution_count": 55,
   "metadata": {},
   "outputs": [],
   "source": [
    "# Get main content <div>\n",
    "poke_content=soup.find(id='mw-content-text')\n",
    "\n",
    "# Get all <table> elements\n",
    "poke_tables=poke_content.find_all('table')[1:8]\n",
    "poke_gens = poke_content.find_all(class_='mw-headline')[1:-1]\n",
    "\n",
    "link = \"https://bulbapedia.bulbagarden.net/wiki\""
   ]
  },
  {
   "cell_type": "code",
   "execution_count": 104,
   "metadata": {},
   "outputs": [],
   "source": [
    "generations = []\n",
    "\n",
    "for index in range(len(poke_tables)):\n",
    "    table = poke_tables[index]\n",
    "    gen_list = []\n",
    "    \n",
    "    for i in range(3, len(table.contents), 2):    \n",
    "        poke_info = table.contents[i]\n",
    "        \n",
    "        kdex=poke_info.contents[1].text.strip()\n",
    "        ndex=poke_info.contents[3].text.strip()\n",
    "        name=poke_info.contents[7].text.strip()\n",
    "        type1=poke_info.contents[9].text.strip()\n",
    "        url= link + poke_info.find('a')['href']\n",
    "        \n",
    "        if kdex == '':\n",
    "            kdex = gen_list[-1]['kdex']\n",
    "        \n",
    "        if len(poke_info.contents) > 10:\n",
    "            type2=poke_info.contents[11].text.strip()\n",
    "            \n",
    "            gen_list.append({\n",
    "                \"kdex\": kdex,\n",
    "                \"ndex\": ndex,\n",
    "                \"name\": name,\n",
    "                \"type1\": type1,\n",
    "                \"type2\": type2,\n",
    "                \"url\": url\n",
    "            })\n",
    "            \n",
    "        else:             \n",
    "            gen_list.append({\n",
    "                \"kdex\": kdex,\n",
    "                \"ndex\": ndex,\n",
    "                \"name\": name,\n",
    "                \"type1\": type1,\n",
    "                \"url\": url\n",
    "            })\n",
    "            \n",
    "    generations.append({\n",
    "        \"Generation\": poke_gens[index].text.strip(),\n",
    "        \"Pokemons\": gen_list\n",
    "    })"
   ]
  },
  {
   "cell_type": "code",
   "execution_count": 93,
   "metadata": {},
   "outputs": [],
   "source": [
    "for gen in generations:\n",
    "    with open(f'Pokemon {gen[\"Generation\"]}.json', 'w') as outfile:\n",
    "        json.dump(gen['Pokemons'], outfile)"
   ]
  },
  {
   "cell_type": "code",
   "execution_count": 105,
   "metadata": {},
   "outputs": [],
   "source": [
    "all_gen = []\n",
    "\n",
    "for gen in generations:\n",
    "    for poke in gen['Pokemons']:\n",
    "        all_gen.append(poke)\n",
    "        all_gen[-1]['generation'] = gen['Generation']"
   ]
  },
  {
   "cell_type": "code",
   "execution_count": 107,
   "metadata": {},
   "outputs": [],
   "source": [
    "with open('Pokemon All Generations.json', 'w') as outfile:\n",
    "    json.dump(generations, outfile)"
   ]
  },
  {
   "cell_type": "code",
   "execution_count": null,
   "metadata": {},
   "outputs": [],
   "source": []
  }
 ],
 "metadata": {
  "kernelspec": {
   "display_name": "Python 3",
   "language": "python",
   "name": "python3"
  },
  "language_info": {
   "codemirror_mode": {
    "name": "ipython",
    "version": 3
   },
   "file_extension": ".py",
   "mimetype": "text/x-python",
   "name": "python",
   "nbconvert_exporter": "python",
   "pygments_lexer": "ipython3",
   "version": "3.8.5"
  }
 },
 "nbformat": 4,
 "nbformat_minor": 4
}
