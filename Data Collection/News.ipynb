{
 "cells": [
  {
   "cell_type": "code",
   "execution_count": 1,
   "metadata": {},
   "outputs": [],
   "source": [
    "import requests\n",
    "import re, json\n",
    "from bs4 import BeautifulSoup"
   ]
  },
  {
   "cell_type": "code",
   "execution_count": 92,
   "metadata": {},
   "outputs": [],
   "source": [
    "url = 'https://news.abs-cbn.com/life/'\n",
    "\n",
    "link = 'https://news.abs-cbn.com'\n",
    "cont = True\n",
    "\n",
    "failing = [\n",
    "    re.compile(r'\\A/life/0[1-2]/../21.*'),\n",
    "    re.compile(r'\\A/life/03/(0.)|(10)/21.*'),\n",
    "    re.compile(r'\\A/life/../../((20)|([0-1|3-9].)).*')\n",
    "]\n"
   ]
  },
  {
   "cell_type": "code",
   "execution_count": 4,
   "metadata": {},
   "outputs": [],
   "source": [
    "news = []\n",
    "\n",
    "while (cont): \n",
    "    page=requests.get(url)   \n",
    "    soup = BeautifulSoup(page.content, 'html.parser')\n",
    "    \n",
    "    articles = soup.find_all(href=re.compile(r'\\A/life/03/1[1|2]/21.*'))\n",
    "    \n",
    "    for i in articles:\n",
    "        if (i.parent.name == 'article'):\n",
    "\n",
    "            article_page = requests.get(link + i['href'])\n",
    "            article_soup = BeautifulSoup(article_page.content, 'html.parser')\n",
    "\n",
    "            author = article_soup.find('meta', {'name': 'author'})['content']\n",
    "            title = article_soup.find('meta', {'property': 'og:title'})['content']\n",
    "            date = article_soup.find(class_='date-posted').text\n",
    "\n",
    "            article_element = article_soup.find(class_='article-content').find_all(['p', 'img', 'iframe'])\n",
    "\n",
    "            full_article = ''\n",
    "\n",
    "            for i in article_element:\n",
    "                if (i.has_attr('src')):               # keeps embedded images and videos\n",
    "                    full_article += i['src'] + '\\n'\n",
    "                else:\n",
    "                    full_article += i.text + '\\n'\n",
    "\n",
    "            news.append({\n",
    "                'date': date,\n",
    "                'title': title,\n",
    "                'full_article': full_article,\n",
    "                'author': author\n",
    "            })\n",
    "    \n",
    "    fail = soup.find_all(href=failing) \n",
    "    cont = fail == []\n",
    "    \n",
    "    url = link + soup.find(title=\"Next\")['href']"
   ]
  },
  {
   "cell_type": "code",
   "execution_count": 8,
   "metadata": {},
   "outputs": [],
   "source": [
    "with open('News.json', 'w') as outfile:\n",
    "    json.dump(news, outfile)"
   ]
  }
 ],
 "metadata": {
  "kernelspec": {
   "display_name": "Python 3",
   "language": "python",
   "name": "python3"
  },
  "language_info": {
   "codemirror_mode": {
    "name": "ipython",
    "version": 3
   },
   "file_extension": ".py",
   "mimetype": "text/x-python",
   "name": "python",
   "nbconvert_exporter": "python",
   "pygments_lexer": "ipython3",
   "version": "3.8.5"
  }
 },
 "nbformat": 4,
 "nbformat_minor": 4
}
